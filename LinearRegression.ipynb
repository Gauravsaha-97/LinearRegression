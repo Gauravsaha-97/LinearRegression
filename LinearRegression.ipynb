{
  "nbformat": 4,
  "nbformat_minor": 0,
  "metadata": {
    "colab": {
      "name": "LinearRegression.ipynb",
      "provenance": [],
      "authorship_tag": "ABX9TyN5W8GNWMPMLpQggO2UMYzO",
      "include_colab_link": true
    },
    "kernelspec": {
      "name": "python3",
      "display_name": "Python 3"
    }
  },
  "cells": [
    {
      "cell_type": "markdown",
      "metadata": {
        "id": "view-in-github",
        "colab_type": "text"
      },
      "source": [
        "<a href=\"https://colab.research.google.com/github/Gauravsaha-97/LinearRegression/blob/master/LinearRegression.ipynb\" target=\"_parent\"><img src=\"https://colab.research.google.com/assets/colab-badge.svg\" alt=\"Open In Colab\"/></a>"
      ]
    },
    {
      "cell_type": "code",
      "metadata": {
        "id": "xe7QbIkh-bms",
        "colab_type": "code",
        "colab": {}
      },
      "source": [
        "%matplotlib inline\n",
        "import numpy as np\n",
        "import matplotlib.pyplot as plt"
      ],
      "execution_count": 0,
      "outputs": []
    },
    {
      "cell_type": "code",
      "metadata": {
        "id": "dJRdakM9APdH",
        "colab_type": "code",
        "colab": {}
      },
      "source": [
        "def generate_set(n = 1000):\n",
        "  b = 1.0\n",
        "  w = [1.0, -3.0]\n",
        "  w = np.reshape(w,(2,1))\n",
        "  x = np.random.randn(n,2)\n",
        "  y = np.dot(x,w) + b + np.random.randn()\n",
        "  y = np.reshape(y ,(n,1))\n",
        "  return x, y"
      ],
      "execution_count": 0,
      "outputs": []
    },
    {
      "cell_type": "code",
      "metadata": {
        "id": "H960ye3WGP6-",
        "colab_type": "code",
        "colab": {
          "base_uri": "https://localhost:8080/",
          "height": 34
        },
        "outputId": "7838b850-a620-4aec-c67b-9dc7dcde6843"
      },
      "source": [
        "x,y = generate_set()\n",
        "print(x.shape, y.shape)"
      ],
      "execution_count": 16,
      "outputs": [
        {
          "output_type": "stream",
          "text": [
            "(1000, 2) (1000, 1)\n"
          ],
          "name": "stdout"
        }
      ]
    },
    {
      "cell_type": "code",
      "metadata": {
        "id": "J08A3zeqGXg4",
        "colab_type": "code",
        "colab": {
          "base_uri": "https://localhost:8080/",
          "height": 34
        },
        "outputId": "01f0256b-190e-4e36-afba-c66398dc449d"
      },
      "source": [
        "print(x[0],y[0])"
      ],
      "execution_count": 17,
      "outputs": [
        {
          "output_type": "stream",
          "text": [
            "[-1.09107932 -0.13893491] [0.40940174]\n"
          ],
          "name": "stdout"
        }
      ]
    },
    {
      "cell_type": "code",
      "metadata": {
        "id": "lxEsZM6-Gua4",
        "colab_type": "code",
        "colab": {}
      },
      "source": [
        "class Model:\n",
        "  def __init__(self, num_features):\n",
        "    self.num_features = num_features\n",
        "    self.w = np.random.randn(num_features, 1)\n",
        "    self.b = np.random.randn()\n",
        "    "
      ],
      "execution_count": 0,
      "outputs": []
    },
    {
      "cell_type": "code",
      "metadata": {
        "id": "G7gqi7QMJT_n",
        "colab_type": "code",
        "colab": {
          "base_uri": "https://localhost:8080/",
          "height": 51
        },
        "outputId": "773a54e4-291d-4c63-e116-f473a12a1a75"
      },
      "source": [
        "model_1 = Model(2)\n",
        "print(model_1.w, model_1.b)"
      ],
      "execution_count": 14,
      "outputs": [
        {
          "output_type": "stream",
          "text": [
            "[[-0.27851678]\n",
            " [-2.01202206]] -0.08943733714859484\n"
          ],
          "name": "stdout"
        }
      ]
    },
    {
      "cell_type": "code",
      "metadata": {
        "id": "vmkLRfGXJfBY",
        "colab_type": "code",
        "colab": {
          "base_uri": "https://localhost:8080/",
          "height": 34
        },
        "outputId": "92555199-19a7-4058-b303-ba23beed3b2b"
      },
      "source": [
        "class Model(Model):\n",
        "  def forward_pass(self,x):\n",
        "    y_hat = self.b + np.dot(x, self.w)\n",
        "    return y_hat\n",
        "y_hat = Model(2).forward_pass(x)\n",
        "print(y_hat.shape, y_hat[0])"
      ],
      "execution_count": 18,
      "outputs": [
        {
          "output_type": "stream",
          "text": [
            "(1000, 1) [-2.92542192]\n"
          ],
          "name": "stdout"
        }
      ]
    },
    {
      "cell_type": "code",
      "metadata": {
        "id": "7hNaEkfZMRmc",
        "colab_type": "code",
        "colab": {}
      },
      "source": [
        "class Model(Model):\n",
        "  def generate_loss(self, y_hat, y_true):\n",
        "    return np.sum(np.square(y_hat - y_true))/(2*y_hat.shape[0])"
      ],
      "execution_count": 0,
      "outputs": []
    },
    {
      "cell_type": "code",
      "metadata": {
        "id": "-P18wr3FSpUl",
        "colab_type": "code",
        "colab": {
          "base_uri": "https://localhost:8080/",
          "height": 34
        },
        "outputId": "de16bf78-2a52-4118-f748-d5f210c9e50e"
      },
      "source": [
        "model = Model(2)\n",
        "y_hat = model.forward_pass(x)\n",
        "loss = model.generate_loss(y_hat, y)\n",
        "print(loss)"
      ],
      "execution_count": 22,
      "outputs": [
        {
          "output_type": "stream",
          "text": [
            "7.300312014053439\n"
          ],
          "name": "stdout"
        }
      ]
    },
    {
      "cell_type": "code",
      "metadata": {
        "id": "jUaWRY3kS7bm",
        "colab_type": "code",
        "colab": {}
      },
      "source": [
        "class Model(Model):\n",
        "  def backward_pass(self, y_true, y_hat, x):\n",
        "    m = y_hat.shape[0]\n",
        "    dB = 1/m * np.sum(y_hat - y_true)\n",
        "    dW = 1/m * np.sum(np.dot(np.transpose(y_hat - y_true), x),axis = 0)\n",
        "    return dB, dW\n"
      ],
      "execution_count": 0,
      "outputs": []
    },
    {
      "cell_type": "code",
      "metadata": {
        "id": "yokS2ACYYKHc",
        "colab_type": "code",
        "colab": {
          "base_uri": "https://localhost:8080/",
          "height": 34
        },
        "outputId": "53418616-3049-468b-8894-2c7fec8fa59c"
      },
      "source": [
        "model = Model(2)\n",
        "y_hat = model.forward_pass(x)\n",
        "dB, dW = model.backward_pass(y, y_hat,x)\n",
        "print(dB, dW)"
      ],
      "execution_count": 30,
      "outputs": [
        {
          "output_type": "stream",
          "text": [
            "-0.9340454709299258 [-2.87564909  1.83791173]\n"
          ],
          "name": "stdout"
        }
      ]
    },
    {
      "cell_type": "code",
      "metadata": {
        "id": "KUgd1BMXYgTl",
        "colab_type": "code",
        "colab": {}
      },
      "source": [
        "class Model(Model):\n",
        "  def update_parameters(self, dB, dW, lr):\n",
        "    self.b = self.b - dB\n",
        "    self.w = self.w - np.reshape(dW, self.w.shape)*lr\n",
        "    "
      ],
      "execution_count": 0,
      "outputs": []
    },
    {
      "cell_type": "code",
      "metadata": {
        "id": "cENNYQdlavkz",
        "colab_type": "code",
        "colab": {}
      },
      "source": [
        "class Model(Model):\n",
        "  def train_model(self, x_train, y_train, lr, iterations):\n",
        "    losses = []\n",
        "    for i in range(0, iterations):\n",
        "      y_hat = self.forward_pass(x_train)\n",
        "      loss = self.generate_loss(y_hat, y_train)\n",
        "      dB, dW = self.backward_pass(y_train, y_hat, x_train)\n",
        "      self.update_parameters(dB, dW, lr)\n",
        "      losses.append(loss)\n",
        "      if i%int(iterations/10)==0:\n",
        "        print('Iterations: {}, Loss: {:.3f}'.format(i, loss))\n",
        "    return losses"
      ],
      "execution_count": 0,
      "outputs": []
    },
    {
      "cell_type": "code",
      "metadata": {
        "id": "Qw9W0nkOdyFT",
        "colab_type": "code",
        "colab": {
          "base_uri": "https://localhost:8080/",
          "height": 187
        },
        "outputId": "f6f6ce54-4517-4966-8eab-57e5492b4b43"
      },
      "source": [
        "model = Model(2)\n",
        "x_train, y_train = generate_set()\n",
        "loss = model.train_model(x_train, y_train, 3e-3, 1000)"
      ],
      "execution_count": 36,
      "outputs": [
        {
          "output_type": "stream",
          "text": [
            "Iterations: 0, Loss: 7.784\n",
            "Iterations: 100, Loss: 2.731\n",
            "Iterations: 200, Loss: 1.490\n",
            "Iterations: 300, Loss: 0.814\n",
            "Iterations: 400, Loss: 0.446\n",
            "Iterations: 500, Loss: 0.245\n",
            "Iterations: 600, Loss: 0.135\n",
            "Iterations: 700, Loss: 0.074\n",
            "Iterations: 800, Loss: 0.041\n",
            "Iterations: 900, Loss: 0.023\n"
          ],
          "name": "stdout"
        }
      ]
    },
    {
      "cell_type": "code",
      "metadata": {
        "id": "EcDp5vYneVWk",
        "colab_type": "code",
        "colab": {
          "base_uri": "https://localhost:8080/",
          "height": 282
        },
        "outputId": "65027feb-89cb-4d19-f61c-a842b74ed893"
      },
      "source": [
        "plt.plot(loss)"
      ],
      "execution_count": 38,
      "outputs": [
        {
          "output_type": "execute_result",
          "data": {
            "text/plain": [
              "[<matplotlib.lines.Line2D at 0x7fb26785acc0>]"
            ]
          },
          "metadata": {
            "tags": []
          },
          "execution_count": 38
        },
        {
          "output_type": "display_data",
          "data": {
            "image/png": "[encoded data removed]",
            "text/plain": [
              "<Figure size 432x288 with 1 Axes>"
            ]
          },
          "metadata": {
            "tags": [],
            "needs_background": "light"
          }
        }
      ]
    },
    {
      "cell_type": "code",
      "metadata": {
        "id": "xtiHxziBfOuG",
        "colab_type": "code",
        "colab": {
          "base_uri": "https://localhost:8080/",
          "height": 623
        },
        "outputId": "0f999266-4117-474f-e80a-1b9e3551471a"
      },
      "source": [
        "model_untrained = Model(2)\n",
        "x_test, y_test = generate_set(1000)\n",
        "preds_untrained = model_untrained.forward_pass(x_test)\n",
        "preds_trained = model.forward_pass(x_test)\n",
        "plt.figure(figsize = (10,10))\n",
        "plt.plot(preds_trained, y_test,'b', label = 'Trained')\n",
        "plt.plot(preds_untrained, y_test,'rx', label='Untrained', alpha = 0.7)\n",
        "plt.legend(loc = 'upper right')\n",
        "plt.xlabel('Predictions')\n",
        "plt.ylabel('Ground Truth')"
      ],
      "execution_count": 50,
      "outputs": [
        {
          "output_type": "execute_result",
          "data": {
            "text/plain": [
              "Text(0, 0.5, 'Ground Truth')"
            ]
          },
          "metadata": {
            "tags": []
          },
          "execution_count": 50
        },
        {
          "output_type": "display_data",
          "data": {
            "image/png": "[encoded data removed]",
            "text/plain": [
              "<Figure size 720x720 with 1 Axes>"
            ]
          },
          "metadata": {
            "tags": [],
            "needs_background": "light"
          }
        }
      ]
    },
    {
      "cell_type": "code",
      "metadata": {
        "id": "zVsOjYIUhtGy",
        "colab_type": "code",
        "colab": {}
      },
      "source": [
        ""
      ],
      "execution_count": 0,
      "outputs": []
    }
  ]
}